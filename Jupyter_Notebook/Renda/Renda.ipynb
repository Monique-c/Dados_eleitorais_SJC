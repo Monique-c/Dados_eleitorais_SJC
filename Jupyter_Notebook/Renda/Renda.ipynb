{
 "cells": [
  {
   "cell_type": "markdown",
   "metadata": {},
   "source": [
    "# Renda dos Municípios SP - PIB e PIB Per Capta\n",
    "Este notebook usa como fonte dos dados do Censo de 2010, e contém:\n",
    "- Tabela com maiores e menores PIB do estado de SP\n",
    "- Comparação entre o PIB de cidades de estado de SP\n",
    "- Tabela com maiores e menores PIB per capita do estado de SP\n",
    "- Comparação entre o PIB per capita de cidades de estado de SP"
   ]
  },
  {
   "cell_type": "markdown",
   "metadata": {},
   "source": [
    "### Importando Bibliotecas:"
   ]
  },
  {
   "cell_type": "code",
   "execution_count": 1,
   "metadata": {},
   "outputs": [],
   "source": [
    "import pandas as pd"
   ]
  },
  {
   "cell_type": "markdown",
   "metadata": {},
   "source": [
    "## Leitura do arquivo CSV\n",
    "Atente para alterar o local onde o arquivo está salvo. Para arquivos salvos no seu usuário, o caminho correto é r\"C:\\Users\\**seu_user**\\perfil_eleitor_secao_ATUAL_SP.csv\"<br>\n",
    "Atente que ao usar o caminho com \\ é necessário manter o <br>\n",
    "O arquivo será lido e as informações armazenadas em uma variável chamada df"
   ]
  },
  {
   "cell_type": "code",
   "execution_count": 2,
   "metadata": {},
   "outputs": [],
   "source": [
    "df = pd.read_csv(r\"C:\\Users\\Rafael\\pibSPcsv.csv\", index_col=0)"
   ]
  },
  {
   "cell_type": "markdown",
   "metadata": {},
   "source": [
    "#### Lista de Municípios de cobertura do cliente :\n",
    "Utilize os nomes dos Múnicipios para facilitar a adequação de Gráficos"
   ]
  },
  {
   "cell_type": "code",
   "execution_count": 3,
   "metadata": {},
   "outputs": [],
   "source": [
    "vale_do_paraiba = ['Aparecida', 'Arapeí', 'Areias', 'Bananal', 'Caçapava', \n",
    "                   'Cachoeira Paulista', 'Campos do Jordão', 'Canas', 'Cruzeiro', 'Cunha', \n",
    "                   'Guaratinguetá', 'Igaratá', 'Jacareí', 'Jambeiro', 'Lagoinha', 'Lavrinhas', \n",
    "                   'Lorena', 'Monteiro Lobato', 'Natividade da Serra', 'Paraibuna',\n",
    "                   'Pindamonhangaba', 'Piquete', 'Potim', 'Queluz', 'Redenção da Serra', 'Roseira', 'Santa Branca', \n",
    "                   'São Bento do Sapucaí', 'São José do Barreiro', 'São José dos Campos', 'São Luiz do Paraitinga', \n",
    "                   'Santo Antônio do Pinhal', 'Silveiras', 'Taubaté', 'Tremembé']\n",
    "regiao_bragantina = ['Atibaia', 'Bom Jesus dos Perdões', 'Bragança Paulista', 'Joanópolis', \n",
    "                     'Nazaré Paulista', 'Piracaia', 'Vargem']\n",
    "litoral_norte = ['Caraguatatuba','Ilhabela','São Sebastião','Ubatuba']"
   ]
  },
  {
   "cell_type": "markdown",
   "metadata": {},
   "source": [
    "#### Demonstração do DataFrame:"
   ]
  },
  {
   "cell_type": "code",
   "execution_count": 4,
   "metadata": {},
   "outputs": [
    {
     "data": {
      "text/html": [
       "<div>\n",
       "<style scoped>\n",
       "    .dataframe tbody tr th:only-of-type {\n",
       "        vertical-align: middle;\n",
       "    }\n",
       "\n",
       "    .dataframe tbody tr th {\n",
       "        vertical-align: top;\n",
       "    }\n",
       "\n",
       "    .dataframe thead th {\n",
       "        text-align: right;\n",
       "    }\n",
       "</style>\n",
       "<table border=\"1\" class=\"dataframe\">\n",
       "  <thead>\n",
       "    <tr style=\"text-align: right;\">\n",
       "      <th></th>\n",
       "      <th>gid</th>\n",
       "      <th>UF</th>\n",
       "      <th>nome</th>\n",
       "      <th>PIB</th>\n",
       "      <th>PIB_percapita</th>\n",
       "    </tr>\n",
       "  </thead>\n",
       "  <tbody>\n",
       "    <tr>\n",
       "      <th>14</th>\n",
       "      <td>4548.0</td>\n",
       "      <td>SÃO PAULO</td>\n",
       "      <td>Itapeva</td>\n",
       "      <td>1.120700e+06</td>\n",
       "      <td>12484.400391</td>\n",
       "    </tr>\n",
       "    <tr>\n",
       "      <th>21</th>\n",
       "      <td>4293.0</td>\n",
       "      <td>SÃO PAULO</td>\n",
       "      <td>Elisiário</td>\n",
       "      <td>5.229523e+04</td>\n",
       "      <td>15765.820312</td>\n",
       "    </tr>\n",
       "    <tr>\n",
       "      <th>51</th>\n",
       "      <td>5045.0</td>\n",
       "      <td>SÃO PAULO</td>\n",
       "      <td>Guarujá</td>\n",
       "      <td>3.429098e+06</td>\n",
       "      <td>11131.339844</td>\n",
       "    </tr>\n",
       "    <tr>\n",
       "      <th>65</th>\n",
       "      <td>4728.0</td>\n",
       "      <td>SÃO PAULO</td>\n",
       "      <td>Pedrinhas Paulista</td>\n",
       "      <td>7.588169e+04</td>\n",
       "      <td>25924.730469</td>\n",
       "    </tr>\n",
       "    <tr>\n",
       "      <th>80</th>\n",
       "      <td>4850.0</td>\n",
       "      <td>SÃO PAULO</td>\n",
       "      <td>São Luís do Paraitinga</td>\n",
       "      <td>8.282717e+04</td>\n",
       "      <td>7593.250000</td>\n",
       "    </tr>\n",
       "  </tbody>\n",
       "</table>\n",
       "</div>"
      ],
      "text/plain": [
       "       gid         UF                    nome           PIB  PIB_percapita\n",
       "14  4548.0  SÃO PAULO                 Itapeva  1.120700e+06   12484.400391\n",
       "21  4293.0  SÃO PAULO               Elisiário  5.229523e+04   15765.820312\n",
       "51  5045.0  SÃO PAULO                 Guarujá  3.429098e+06   11131.339844\n",
       "65  4728.0  SÃO PAULO      Pedrinhas Paulista  7.588169e+04   25924.730469\n",
       "80  4850.0  SÃO PAULO  São Luís do Paraitinga  8.282717e+04    7593.250000"
      ]
     },
     "execution_count": 4,
     "metadata": {},
     "output_type": "execute_result"
    }
   ],
   "source": [
    "df.head()"
   ]
  },
  {
   "cell_type": "markdown",
   "metadata": {},
   "source": [
    "# Visuzalização:"
   ]
  },
  {
   "cell_type": "markdown",
   "metadata": {},
   "source": [
    "#### Definindo Colunas dos Gráficos PIB:\n"
   ]
  },
  {
   "cell_type": "code",
   "execution_count": 5,
   "metadata": {},
   "outputs": [
    {
     "data": {
      "text/html": [
       "<div>\n",
       "<style scoped>\n",
       "    .dataframe tbody tr th:only-of-type {\n",
       "        vertical-align: middle;\n",
       "    }\n",
       "\n",
       "    .dataframe tbody tr th {\n",
       "        vertical-align: top;\n",
       "    }\n",
       "\n",
       "    .dataframe thead th {\n",
       "        text-align: right;\n",
       "    }\n",
       "</style>\n",
       "<table border=\"1\" class=\"dataframe\">\n",
       "  <thead>\n",
       "    <tr style=\"text-align: right;\">\n",
       "      <th></th>\n",
       "      <th>nome</th>\n",
       "      <th>PIB</th>\n",
       "    </tr>\n",
       "  </thead>\n",
       "  <tbody>\n",
       "    <tr>\n",
       "      <th>14</th>\n",
       "      <td>Itapeva</td>\n",
       "      <td>1.120700e+06</td>\n",
       "    </tr>\n",
       "    <tr>\n",
       "      <th>21</th>\n",
       "      <td>Elisiário</td>\n",
       "      <td>5.229523e+04</td>\n",
       "    </tr>\n",
       "    <tr>\n",
       "      <th>51</th>\n",
       "      <td>Guarujá</td>\n",
       "      <td>3.429098e+06</td>\n",
       "    </tr>\n",
       "    <tr>\n",
       "      <th>65</th>\n",
       "      <td>Pedrinhas Paulista</td>\n",
       "      <td>7.588169e+04</td>\n",
       "    </tr>\n",
       "    <tr>\n",
       "      <th>80</th>\n",
       "      <td>São Luís do Paraitinga</td>\n",
       "      <td>8.282717e+04</td>\n",
       "    </tr>\n",
       "  </tbody>\n",
       "</table>\n",
       "</div>"
      ],
      "text/plain": [
       "                      nome           PIB\n",
       "14                 Itapeva  1.120700e+06\n",
       "21               Elisiário  5.229523e+04\n",
       "51                 Guarujá  3.429098e+06\n",
       "65      Pedrinhas Paulista  7.588169e+04\n",
       "80  São Luís do Paraitinga  8.282717e+04"
      ]
     },
     "execution_count": 5,
     "metadata": {},
     "output_type": "execute_result"
    }
   ],
   "source": [
    "dfpib = df.filter(items=['nome', 'PIB'])\n",
    "dfpib.head()"
   ]
  },
  {
   "cell_type": "markdown",
   "metadata": {},
   "source": [
    "\n",
    "Neste gráfico é possível comparar o PIB de até 16 cidades, substituindo vale_do_paraiba[x] pelo nome da cidade. Caso a comparação seja realizada com menos de 16 cidades, é necessário apagar as linhas sobressalentes para que o gráfico seja gerado corretamente\n",
    "Não é necessário alterar as linhas abaixo de # Rotulo dos Municípios:"
   ]
  },
  {
   "cell_type": "code",
   "execution_count": 6,
   "metadata": {},
   "outputs": [
    {
     "data": {
      "image/png": "[encoded data removed]",
      "text/plain": [
       "<Figure size 1440x720 with 1 Axes>"
      ]
     },
     "metadata": {
      "needs_background": "light"
     },
     "output_type": "display_data"
    }
   ],
   "source": [
    "# Municípios Escolhidos: \n",
    "mun0 = vale_do_paraiba[0]\n",
    "mun1 = vale_do_paraiba[1]\n",
    "mun2 = vale_do_paraiba[2]\n",
    "mun3 = vale_do_paraiba[3] \n",
    "mun4 = vale_do_paraiba[4]\n",
    "mun5 = vale_do_paraiba[5] \n",
    "mun6 = vale_do_paraiba[6]\n",
    "mun7 = vale_do_paraiba[7]\n",
    "mun8 = vale_do_paraiba[8]\n",
    "mun9 = vale_do_paraiba[9]\n",
    "mun10 = vale_do_paraiba[10]\n",
    "mun11 = vale_do_paraiba[11]\n",
    "mun12 = vale_do_paraiba[12]\n",
    "mun13 = vale_do_paraiba[13]\n",
    "mun14 = vale_do_paraiba[14]\n",
    "mun15 = vale_do_paraiba[15]\n",
    "\n",
    "# Rotulo dos Municípios:\n",
    "rotmun0 = dfpib.nome.where(dfpib.nome == mun0).dropna() \n",
    "rotmun1 = dfpib.nome.where(dfpib.nome == mun1).dropna()\n",
    "rotmun2 = dfpib.nome.where(dfpib.nome == mun2).dropna() \n",
    "rotmun3 = dfpib.nome.where(dfpib.nome == mun3).dropna()\n",
    "rotmun4 = dfpib.nome.where(dfpib.nome == mun4).dropna()\n",
    "rotmun5 = dfpib.nome.where(dfpib.nome == mun5).dropna()\n",
    "rotmun6 = dfpib.nome.where(dfpib.nome == mun6).dropna() \n",
    "rotmun7 = dfpib.nome.where(dfpib.nome == mun7).dropna()\n",
    "rotmun8 = dfpib.nome.where(dfpib.nome == mun8).dropna() \n",
    "rotmun9 = dfpib.nome.where(dfpib.nome == mun9).dropna()\n",
    "rotmun10 = dfpib.nome.where(dfpib.nome == mun10).dropna() \n",
    "rotmun11 = dfpib.nome.where(dfpib.nome == mun11).dropna()\n",
    "rotmun12 = dfpib.nome.where(dfpib.nome == mun12).dropna() \n",
    "rotmun13 = dfpib.nome.where(dfpib.nome == mun13).dropna() \n",
    "rotmun14 = dfpib.nome.where(dfpib.nome == mun14).dropna() \n",
    "rotmun15 = dfpib.nome.where(dfpib.nome == mun15).dropna()\n",
    "\n",
    "# PIB dos Municípios Escolhidos: \n",
    "pibmun0 = float(dfpib.PIB.where(dfpib.nome == mun0).dropna()) \n",
    "pibmun1 = float(dfpib.PIB.where(dfpib.nome == mun1).dropna())\n",
    "pibmun2 = float(dfpib.PIB.where(dfpib.nome == mun2).dropna()) \n",
    "pibmun3 = float(dfpib.PIB.where(dfpib.nome == mun3).dropna())\n",
    "pibmun4 = float(dfpib.PIB.where(dfpib.nome == mun4).dropna()) \n",
    "pibmun5 = float(dfpib.PIB.where(dfpib.nome == mun5).dropna())\n",
    "pibmun6 = float(dfpib.PIB.where(dfpib.nome == mun6).dropna()) \n",
    "pibmun7 = float(dfpib.PIB.where(dfpib.nome == mun7).dropna())\n",
    "pibmun8 = float(dfpib.PIB.where(dfpib.nome == mun8).dropna()) \n",
    "pibmun9 = float(dfpib.PIB.where(dfpib.nome == mun9).dropna())\n",
    "pibmun10 = float(dfpib.PIB.where(dfpib.nome == mun10).dropna())\n",
    "pibmun11 = float(dfpib.PIB.where(dfpib.nome == mun11).dropna())\n",
    "pibmun12 = float(dfpib.PIB.where(dfpib.nome == mun12).dropna())\n",
    "pibmun13 = float(dfpib.PIB.where(dfpib.nome == mun13).dropna()) \n",
    "pibmun14 = float(dfpib.PIB.where(dfpib.nome == mun14).dropna()) \n",
    "pibmun15 = float(dfpib.PIB.where(dfpib.nome == mun15).dropna())\n",
    "\n",
    "# Definição grafico:\n",
    "dfgraf = pd.DataFrame({'Municípios':[mun0, mun1, mun2, mun3, mun4, mun5, \n",
    "                                 mun6, mun7, mun8, mun9, mun10, mun11, \n",
    "                                 mun12, mun13, mun14, mun15],\n",
    "                   'PIB':[pibmun0, pibmun1, pibmun2, pibmun3, pibmun4, pibmun5, \n",
    "                          pibmun6, pibmun7, pibmun8, pibmun9, pibmun10, \n",
    "                          pibmun11,pibmun12, pibmun13, pibmun14, pibmun15]})\n",
    "\n",
    "ax = dfgraf.plot.barh(x='Municípios', y='PIB', rot=0, figsize=(20,10), fontsize=12)"
   ]
  },
  {
   "cell_type": "markdown",
   "metadata": {},
   "source": [
    "## Tabela PIB Comparação Município x Média SP:"
   ]
  },
  {
   "cell_type": "markdown",
   "metadata": {},
   "source": [
    "#### Definindo o PIB Médio dos Municípios do Estado de São Paulo:"
   ]
  },
  {
   "cell_type": "code",
   "execution_count": 7,
   "metadata": {},
   "outputs": [
    {
     "name": "stdout",
     "output_type": "stream",
     "text": [
      "R$ 1681168.18\n"
     ]
    }
   ],
   "source": [
    "mean_pib = df.PIB.mean()\n",
    "média = f'R$ {mean_pib:.2f}'\n",
    "print(média)"
   ]
  },
  {
   "cell_type": "markdown",
   "metadata": {},
   "source": [
    "Neste gráfico é possível comparar até 3 cidades com o PIB médio do estado, substituindo vale_do_paraiba[x] pelo nome da cidade. Caso a comparação seja realizada com menos de 03 cidades, é necessário apagar as linhas sobressalentes para que o gráfico seja gerado corretamente\n",
    "Não é necessário alterar as linhas abaixo de # Rotulo da Média dos Municípios:"
   ]
  },
  {
   "cell_type": "code",
   "execution_count": 8,
   "metadata": {},
   "outputs": [
    {
     "data": {
      "image/png": "[encoded data removed]",
      "text/plain": [
       "<Figure size 1440x576 with 1 Axes>"
      ]
     },
     "metadata": {
      "needs_background": "light"
     },
     "output_type": "display_data"
    }
   ],
   "source": [
    "# Municípios Escolhidos:\n",
    "mun0 = vale_do_paraiba[0]\n",
    "mun1 = vale_do_paraiba[1]\n",
    "mun2 = vale_do_paraiba[2]\n",
    "\n",
    "# Rotulo da Média dos Municípios:\n",
    "rotmediapib = 'Média PIB SP'\n",
    "\n",
    "# Rotulo dos Municípios:\n",
    "rotmun0 = dfpib.nome.where(dfpib.nome == mun0).dropna()\n",
    "rotmun1 = dfpib.nome.where(dfpib.nome == mun1).dropna()\n",
    "rotmun2 = dfpib.nome.where(dfpib.nome == mun2).dropna()\n",
    "\n",
    "# PIB dos Municípios Escolhidos:\n",
    "pibmun0 = float(dfpib.PIB.where(dfpib.nome == mun0).dropna())\n",
    "pibmun1 = float(dfpib.PIB.where(dfpib.nome == mun1).dropna())\n",
    "pibmun2 = float(dfpib.PIB.where(dfpib.nome == mun2).dropna())\n",
    "\n",
    "# Definição grafico:\n",
    "dfgraf = pd.DataFrame({'Municípios':[rotmediapib, mun0, mun1, mun2],\\\n",
    "                   'PIB':[mean_pib, pibmun0, pibmun1, pibmun2]})\n",
    "\n",
    "ax = dfgraf.plot.barh(x='Municípios', y='PIB', rot=0, figsize=(20,8), fontsize=12)"
   ]
  },
  {
   "cell_type": "markdown",
   "metadata": {},
   "source": [
    "## Tabela Maiores Índices PIB total:"
   ]
  },
  {
   "cell_type": "markdown",
   "metadata": {},
   "source": [
    "####  Tabela dos Maiores Índices do PIB dos Municípios do Estado de São Paulo:"
   ]
  },
  {
   "cell_type": "code",
   "execution_count": 9,
   "metadata": {},
   "outputs": [
    {
     "data": {
      "text/html": [
       "<div>\n",
       "<style scoped>\n",
       "    .dataframe tbody tr th:only-of-type {\n",
       "        vertical-align: middle;\n",
       "    }\n",
       "\n",
       "    .dataframe tbody tr th {\n",
       "        vertical-align: top;\n",
       "    }\n",
       "\n",
       "    .dataframe thead th {\n",
       "        text-align: right;\n",
       "    }\n",
       "</style>\n",
       "<table border=\"1\" class=\"dataframe\">\n",
       "  <thead>\n",
       "    <tr style=\"text-align: right;\">\n",
       "      <th></th>\n",
       "      <th>PIB</th>\n",
       "    </tr>\n",
       "    <tr>\n",
       "      <th>nome</th>\n",
       "      <th></th>\n",
       "    </tr>\n",
       "  </thead>\n",
       "  <tbody>\n",
       "    <tr>\n",
       "      <th>São Paulo</th>\n",
       "      <td>389317152.0</td>\n",
       "    </tr>\n",
       "    <tr>\n",
       "      <th>Guarulhos</th>\n",
       "      <td>32473828.0</td>\n",
       "    </tr>\n",
       "    <tr>\n",
       "      <th>Campinas</th>\n",
       "      <td>31654720.0</td>\n",
       "    </tr>\n",
       "    <tr>\n",
       "      <th>Osasco</th>\n",
       "      <td>31616452.0</td>\n",
       "    </tr>\n",
       "    <tr>\n",
       "      <th>São Bernardo do Campo</th>\n",
       "      <td>28935768.0</td>\n",
       "    </tr>\n",
       "  </tbody>\n",
       "</table>\n",
       "</div>"
      ],
      "text/plain": [
       "                               PIB\n",
       "nome                              \n",
       "São Paulo              389317152.0\n",
       "Guarulhos               32473828.0\n",
       "Campinas                31654720.0\n",
       "Osasco                  31616452.0\n",
       "São Bernardo do Campo   28935768.0"
      ]
     },
     "execution_count": 9,
     "metadata": {},
     "output_type": "execute_result"
    }
   ],
   "source": [
    "pibtop = dfpib.groupby('nome').max().sort_values(by='PIB', ascending=False)\n",
    "pibtop[0:5]"
   ]
  },
  {
   "cell_type": "markdown",
   "metadata": {},
   "source": [
    "###  Visualização das cidades com maiores PIB:"
   ]
  },
  {
   "cell_type": "code",
   "execution_count": 10,
   "metadata": {},
   "outputs": [
    {
     "data": {
      "text/plain": [
       "<AxesSubplot:ylabel='nome'>"
      ]
     },
     "execution_count": 10,
     "metadata": {},
     "output_type": "execute_result"
    },
    {
     "data": {
      "image/png": "[encoded data removed]",
      "text/plain": [
       "<Figure size 1440x576 with 1 Axes>"
      ]
     },
     "metadata": {
      "needs_background": "light"
     },
     "output_type": "display_data"
    }
   ],
   "source": [
    "pibtop[0:5].plot.barh(figsize=(20,8), fontsize=12)"
   ]
  },
  {
   "cell_type": "markdown",
   "metadata": {},
   "source": [
    "## Tabela Menores Índices PIB total:"
   ]
  },
  {
   "cell_type": "markdown",
   "metadata": {},
   "source": [
    "#### Tabela dos Menores Índices do PIB dos Municípios do Estado de São Paulo:"
   ]
  },
  {
   "cell_type": "code",
   "execution_count": 11,
   "metadata": {},
   "outputs": [
    {
     "data": {
      "text/html": [
       "<div>\n",
       "<style scoped>\n",
       "    .dataframe tbody tr th:only-of-type {\n",
       "        vertical-align: middle;\n",
       "    }\n",
       "\n",
       "    .dataframe tbody tr th {\n",
       "        vertical-align: top;\n",
       "    }\n",
       "\n",
       "    .dataframe thead th {\n",
       "        text-align: right;\n",
       "    }\n",
       "</style>\n",
       "<table border=\"1\" class=\"dataframe\">\n",
       "  <thead>\n",
       "    <tr style=\"text-align: right;\">\n",
       "      <th></th>\n",
       "      <th>PIB</th>\n",
       "    </tr>\n",
       "    <tr>\n",
       "      <th>nome</th>\n",
       "      <th></th>\n",
       "    </tr>\n",
       "  </thead>\n",
       "  <tbody>\n",
       "    <tr>\n",
       "      <th>Nova Guataporanga</th>\n",
       "      <td>15150.568359</td>\n",
       "    </tr>\n",
       "    <tr>\n",
       "      <th>Fernão</th>\n",
       "      <td>15919.247070</td>\n",
       "    </tr>\n",
       "    <tr>\n",
       "      <th>Vitória Brasil</th>\n",
       "      <td>17446.894531</td>\n",
       "    </tr>\n",
       "    <tr>\n",
       "      <th>Pracinha</th>\n",
       "      <td>17830.343750</td>\n",
       "    </tr>\n",
       "    <tr>\n",
       "      <th>Torre de Pedra</th>\n",
       "      <td>17932.009766</td>\n",
       "    </tr>\n",
       "  </tbody>\n",
       "</table>\n",
       "</div>"
      ],
      "text/plain": [
       "                            PIB\n",
       "nome                           \n",
       "Nova Guataporanga  15150.568359\n",
       "Fernão             15919.247070\n",
       "Vitória Brasil     17446.894531\n",
       "Pracinha           17830.343750\n",
       "Torre de Pedra     17932.009766"
      ]
     },
     "execution_count": 11,
     "metadata": {},
     "output_type": "execute_result"
    }
   ],
   "source": [
    "pibbot = dfpib.groupby('nome').min().sort_values(by='PIB', ascending=True)\n",
    "pibbot[0:5]"
   ]
  },
  {
   "cell_type": "markdown",
   "metadata": {},
   "source": [
    "###  Visualização:"
   ]
  },
  {
   "cell_type": "code",
   "execution_count": 12,
   "metadata": {},
   "outputs": [
    {
     "data": {
      "text/plain": [
       "<AxesSubplot:ylabel='nome'>"
      ]
     },
     "execution_count": 12,
     "metadata": {},
     "output_type": "execute_result"
    },
    {
     "data": {
      "image/png": "[encoded data removed]",
      "text/plain": [
       "<Figure size 1440x576 with 1 Axes>"
      ]
     },
     "metadata": {
      "needs_background": "light"
     },
     "output_type": "display_data"
    }
   ],
   "source": [
    "pibbot[0:5].plot.barh(figsize=(20,8), fontsize=12)"
   ]
  },
  {
   "cell_type": "markdown",
   "metadata": {},
   "source": [
    "# PIB Per Capita:"
   ]
  },
  {
   "cell_type": "markdown",
   "metadata": {},
   "source": [
    "#### Colunas dos Gráficos PIB Per Capita:"
   ]
  },
  {
   "cell_type": "code",
   "execution_count": 13,
   "metadata": {},
   "outputs": [
    {
     "data": {
      "text/html": [
       "<div>\n",
       "<style scoped>\n",
       "    .dataframe tbody tr th:only-of-type {\n",
       "        vertical-align: middle;\n",
       "    }\n",
       "\n",
       "    .dataframe tbody tr th {\n",
       "        vertical-align: top;\n",
       "    }\n",
       "\n",
       "    .dataframe thead th {\n",
       "        text-align: right;\n",
       "    }\n",
       "</style>\n",
       "<table border=\"1\" class=\"dataframe\">\n",
       "  <thead>\n",
       "    <tr style=\"text-align: right;\">\n",
       "      <th></th>\n",
       "      <th>nome</th>\n",
       "      <th>PIB_percapita</th>\n",
       "    </tr>\n",
       "  </thead>\n",
       "  <tbody>\n",
       "    <tr>\n",
       "      <th>14</th>\n",
       "      <td>Itapeva</td>\n",
       "      <td>12484.400391</td>\n",
       "    </tr>\n",
       "    <tr>\n",
       "      <th>21</th>\n",
       "      <td>Elisiário</td>\n",
       "      <td>15765.820312</td>\n",
       "    </tr>\n",
       "    <tr>\n",
       "      <th>51</th>\n",
       "      <td>Guarujá</td>\n",
       "      <td>11131.339844</td>\n",
       "    </tr>\n",
       "    <tr>\n",
       "      <th>65</th>\n",
       "      <td>Pedrinhas Paulista</td>\n",
       "      <td>25924.730469</td>\n",
       "    </tr>\n",
       "    <tr>\n",
       "      <th>80</th>\n",
       "      <td>São Luís do Paraitinga</td>\n",
       "      <td>7593.250000</td>\n",
       "    </tr>\n",
       "    <tr>\n",
       "      <th>...</th>\n",
       "      <td>...</td>\n",
       "      <td>...</td>\n",
       "    </tr>\n",
       "    <tr>\n",
       "      <th>5530</th>\n",
       "      <td>Santa Gertrudes</td>\n",
       "      <td>17541.859375</td>\n",
       "    </tr>\n",
       "    <tr>\n",
       "      <th>5543</th>\n",
       "      <td>Gabriel Monteiro</td>\n",
       "      <td>25608.500000</td>\n",
       "    </tr>\n",
       "    <tr>\n",
       "      <th>5550</th>\n",
       "      <td>Garça</td>\n",
       "      <td>14135.709961</td>\n",
       "    </tr>\n",
       "    <tr>\n",
       "      <th>5556</th>\n",
       "      <td>Icém</td>\n",
       "      <td>13834.830078</td>\n",
       "    </tr>\n",
       "    <tr>\n",
       "      <th>5563</th>\n",
       "      <td>Guararapes</td>\n",
       "      <td>17949.970703</td>\n",
       "    </tr>\n",
       "  </tbody>\n",
       "</table>\n",
       "<p>645 rows × 2 columns</p>\n",
       "</div>"
      ],
      "text/plain": [
       "                        nome  PIB_percapita\n",
       "14                   Itapeva   12484.400391\n",
       "21                 Elisiário   15765.820312\n",
       "51                   Guarujá   11131.339844\n",
       "65        Pedrinhas Paulista   25924.730469\n",
       "80    São Luís do Paraitinga    7593.250000\n",
       "...                      ...            ...\n",
       "5530         Santa Gertrudes   17541.859375\n",
       "5543        Gabriel Monteiro   25608.500000\n",
       "5550                   Garça   14135.709961\n",
       "5556                    Icém   13834.830078\n",
       "5563              Guararapes   17949.970703\n",
       "\n",
       "[645 rows x 2 columns]"
      ]
     },
     "execution_count": 13,
     "metadata": {},
     "output_type": "execute_result"
    }
   ],
   "source": [
    "dfpibpcap = df.filter(items=['nome', 'PIB_percapita'])\n",
    "dfpibpcap"
   ]
  },
  {
   "cell_type": "markdown",
   "metadata": {},
   "source": [
    "## Compaação PIB Per Capita Municípios:"
   ]
  },
  {
   "cell_type": "markdown",
   "metadata": {},
   "source": [
    "Neste gráfico é possível comparar até 16 cidades, substituindo vale_do_paraiba[x] pelo nome da cidade. Caso a comparação seja realizada com menos de 16 cidades, é necessário apagar as linhas sobressalentes para que o gráfico seja gerado corretamente  \n",
    "Não é necessário alterar as linhas abaixo de # Rotulo dos Municípios:"
   ]
  },
  {
   "cell_type": "code",
   "execution_count": 14,
   "metadata": {},
   "outputs": [
    {
     "data": {
      "image/png": "[encoded data removed]",
      "text/plain": [
       "<Figure size 1440x720 with 1 Axes>"
      ]
     },
     "metadata": {
      "needs_background": "light"
     },
     "output_type": "display_data"
    }
   ],
   "source": [
    "# Municípios Escolhidos: \n",
    "mun0 = vale_do_paraiba[0]\n",
    "mun1 = vale_do_paraiba[1]\n",
    "mun2 = vale_do_paraiba[2]\n",
    "mun3 = vale_do_paraiba[3] \n",
    "mun4 = vale_do_paraiba[4]\n",
    "mun5 = vale_do_paraiba[5] \n",
    "mun6 = vale_do_paraiba[6]\n",
    "mun7 = vale_do_paraiba[7]\n",
    "mun8 = vale_do_paraiba[8]\n",
    "mun9 = vale_do_paraiba[9]\n",
    "mun10 = vale_do_paraiba[10]\n",
    "mun11 = vale_do_paraiba[11]\n",
    "mun12 = vale_do_paraiba[12]\n",
    "mun13 = vale_do_paraiba[13]\n",
    "mun14 = vale_do_paraiba[14]\n",
    "mun15 = vale_do_paraiba[15]\n",
    "\n",
    "# Rotulo dos Municípios:\n",
    "rotmun0 = dfpibpcap.nome.where(dfpibpcap.nome == mun0).dropna() \n",
    "rotmun1 = dfpibpcap.nome.where(dfpibpcap.nome == mun1).dropna()\n",
    "rotmun2 = dfpibpcap.nome.where(dfpibpcap.nome == mun2).dropna() \n",
    "rotmun3 = dfpibpcap.nome.where(dfpibpcap.nome == mun3).dropna()\n",
    "rotmun4 = dfpibpcap.nome.where(dfpibpcap.nome == mun4).dropna()\n",
    "rotmun5 = dfpibpcap.nome.where(dfpibpcap.nome == mun5).dropna()\n",
    "rotmun6 = dfpibpcap.nome.where(dfpibpcap.nome == mun6).dropna() \n",
    "rotmun7 = dfpibpcap.nome.where(dfpibpcap.nome == mun7).dropna()\n",
    "rotmun8 = dfpibpcap.nome.where(dfpibpcap.nome == mun8).dropna() \n",
    "rotmun9 = dfpibpcap.nome.where(dfpibpcap.nome == mun9).dropna()\n",
    "rotmun10 = dfpibpcap.nome.where(dfpibpcap.nome == mun10).dropna() \n",
    "rotmun11 = dfpibpcap.nome.where(dfpibpcap.nome == mun11).dropna()\n",
    "rotmun12 = dfpibpcap.nome.where(dfpibpcap.nome == mun12).dropna() \n",
    "rotmun13 = dfpibpcap.nome.where(dfpibpcap.nome == mun13).dropna() \n",
    "rotmun14 = dfpibpcap.nome.where(dfpibpcap.nome == mun14).dropna() \n",
    "rotmun15 = dfpibpcap.nome.where(dfpibpcap.nome == mun15).dropna()\n",
    "\n",
    "# PIB dos Municípios Escolhidos: \n",
    "pibmun0 = float(dfpibpcap.PIB_percapita.where(dfpibpcap.nome == mun0).dropna()) \n",
    "pibmun1 = float(dfpibpcap.PIB_percapita.where(dfpibpcap.nome == mun1).dropna())\n",
    "pibmun2 = float(dfpibpcap.PIB_percapita.where(dfpibpcap.nome == mun2).dropna()) \n",
    "pibmun3 = float(dfpibpcap.PIB_percapita.where(dfpibpcap.nome == mun3).dropna())\n",
    "pibmun4 = float(dfpibpcap.PIB_percapita.where(dfpibpcap.nome == mun4).dropna()) \n",
    "pibmun5 = float(dfpibpcap.PIB_percapita.where(dfpibpcap.nome == mun5).dropna())\n",
    "pibmun6 = float(dfpibpcap.PIB_percapita.where(dfpibpcap.nome == mun6).dropna()) \n",
    "pibmun7 = float(dfpibpcap.PIB_percapita.where(dfpibpcap.nome == mun7).dropna())\n",
    "pibmun8 = float(dfpibpcap.PIB_percapita.where(dfpibpcap.nome == mun8).dropna()) \n",
    "pibmun9 = float(dfpibpcap.PIB_percapita.where(dfpibpcap.nome == mun9).dropna())\n",
    "pibmun10 = float(dfpibpcap.PIB_percapita.where(dfpibpcap.nome == mun10).dropna())\n",
    "pibmun11 = float(dfpibpcap.PIB_percapita.where(dfpibpcap.nome == mun11).dropna())\n",
    "pibmun12 = float(dfpibpcap.PIB_percapita.where(dfpibpcap.nome == mun12).dropna())\n",
    "pibmun13 = float(dfpibpcap.PIB_percapita.where(dfpibpcap.nome == mun13).dropna()) \n",
    "pibmun14 = float(dfpibpcap.PIB_percapita.where(dfpibpcap.nome == mun14).dropna()) \n",
    "pibmun15 = float(dfpibpcap.PIB_percapita.where(dfpibpcap.nome == mun15).dropna())\n",
    "\n",
    "# Definição grafico:\n",
    "dfgraf = pd.DataFrame({'Municípios':[mun0, mun1, mun2, mun3, mun4, mun5, \n",
    "                                 mun6, mun7, mun8, mun9, mun10, mun11, \n",
    "                                 mun12, mun13, mun14, mun15],\n",
    "                   'PIB Per Capita':[pibmun0, pibmun1, pibmun2, pibmun3, pibmun4, pibmun5, \n",
    "                          pibmun6, pibmun7, pibmun8, pibmun9, pibmun10, \n",
    "                          pibmun11,pibmun12, pibmun13, pibmun14, pibmun15]})\n",
    "\n",
    "ax = dfgraf.plot.barh(x='Municípios', y='PIB Per Capita', rot=0, figsize=(20,10), fontsize=12)"
   ]
  },
  {
   "cell_type": "markdown",
   "metadata": {},
   "source": [
    "## Comparação PIB per capita  município x média do PIB per capita do estado de SP:"
   ]
  },
  {
   "cell_type": "markdown",
   "metadata": {},
   "source": [
    "#### Definindo o PIB Médio dos Municípios do Estado de São Paulo:"
   ]
  },
  {
   "cell_type": "code",
   "execution_count": 15,
   "metadata": {},
   "outputs": [
    {
     "name": "stdout",
     "output_type": "stream",
     "text": [
      "R$ 17520.02\n"
     ]
    }
   ],
   "source": [
    "mean_pibpcap = df.PIB_percapita.mean()\n",
    "media2 = f'R$ {mean_pibpcap:.2f}'\n",
    "print(media2)\n"
   ]
  },
  {
   "cell_type": "markdown",
   "metadata": {},
   "source": [
    "Neste gráfico é possível comparar até 3 cidades com o PIB per capita médio do estado, substituindo vale_do_paraiba[x] pelo nome da cidade. Caso a comparação seja realizada com menos de três cidades, é necessário apagar as linhas sobressalentes para que o gráfico seja gerado corretamente <br>\n",
    "Não é necessário alterar as linhas abaixo de # Rotulo da Média dos Municípios:\n"
   ]
  },
  {
   "cell_type": "code",
   "execution_count": 16,
   "metadata": {},
   "outputs": [
    {
     "data": {
      "image/png": "[encoded data removed]",
      "text/plain": [
       "<Figure size 1440x576 with 1 Axes>"
      ]
     },
     "metadata": {
      "needs_background": "light"
     },
     "output_type": "display_data"
    }
   ],
   "source": [
    "# Municipios Escolhidos:\n",
    "mun0 = vale_do_paraiba[0]\n",
    "mun1 = vale_do_paraiba[1]\n",
    "mun2 = vale_do_paraiba[2]\n",
    "\n",
    "# Rotulo da Média dos Municípios:\n",
    "rotmediapibpcap = 'Média PIB Per Capita SP'\n",
    "\n",
    "# Rotulo dos Municípios:\n",
    "rotmun0 = dfpibpcap.nome.where(dfpibpcap.nome == mun0).dropna()\n",
    "rotmun1 = dfpibpcap.nome.where(dfpibpcap.nome == mun1).dropna()\n",
    "rotmun2 = dfpibpcap.nome.where(dfpibpcap.nome == mun2).dropna()\n",
    "\n",
    "# PIB dos Municípios Escolhidos:\n",
    "pibmun0 = float(dfpibpcap.PIB_percapita.where(dfpibpcap.nome == mun0).dropna())\n",
    "pibmun1 = float(dfpibpcap.PIB_percapita.where(dfpibpcap.nome == mun1).dropna())\n",
    "pibmun2 = float(dfpibpcap.PIB_percapita.where(dfpibpcap.nome == mun2).dropna())\n",
    "\n",
    "# Definição grafico:\n",
    "dfgraf = pd.DataFrame({'Municípios':[rotmediapibpcap, mun0, mun1, mun2],\\\n",
    "                   'PIB Per Capita':[mean_pibpcap, pibmun0, pibmun1, pibmun2]})\n",
    "\n",
    "ax = dfgraf.plot.barh(x='Municípios', y='PIB Per Capita', rot=0, figsize=(20,8), fontsize=12)"
   ]
  },
  {
   "cell_type": "markdown",
   "metadata": {},
   "source": [
    "## Tabela Maiores Índices PIB Per Capita:"
   ]
  },
  {
   "cell_type": "markdown",
   "metadata": {},
   "source": [
    "#### Tabela das cidades com maiores índices de PIB per capita  do Estado de São Paulo:"
   ]
  },
  {
   "cell_type": "code",
   "execution_count": 17,
   "metadata": {},
   "outputs": [
    {
     "data": {
      "text/html": [
       "<div>\n",
       "<style scoped>\n",
       "    .dataframe tbody tr th:only-of-type {\n",
       "        vertical-align: middle;\n",
       "    }\n",
       "\n",
       "    .dataframe tbody tr th {\n",
       "        vertical-align: top;\n",
       "    }\n",
       "\n",
       "    .dataframe thead th {\n",
       "        text-align: right;\n",
       "    }\n",
       "</style>\n",
       "<table border=\"1\" class=\"dataframe\">\n",
       "  <thead>\n",
       "    <tr style=\"text-align: right;\">\n",
       "      <th></th>\n",
       "      <th>PIB_percapita</th>\n",
       "    </tr>\n",
       "    <tr>\n",
       "      <th>nome</th>\n",
       "      <th></th>\n",
       "    </tr>\n",
       "  </thead>\n",
       "  <tbody>\n",
       "    <tr>\n",
       "      <th>Louveira</th>\n",
       "      <td>174891.843750</td>\n",
       "    </tr>\n",
       "    <tr>\n",
       "      <th>Jambeiro</th>\n",
       "      <td>133668.937500</td>\n",
       "    </tr>\n",
       "    <tr>\n",
       "      <th>Araçariguama</th>\n",
       "      <td>110550.992188</td>\n",
       "    </tr>\n",
       "    <tr>\n",
       "      <th>Alumínio</th>\n",
       "      <td>103118.710938</td>\n",
       "    </tr>\n",
       "    <tr>\n",
       "      <th>Barueri</th>\n",
       "      <td>99595.703125</td>\n",
       "    </tr>\n",
       "  </tbody>\n",
       "</table>\n",
       "</div>"
      ],
      "text/plain": [
       "              PIB_percapita\n",
       "nome                       \n",
       "Louveira      174891.843750\n",
       "Jambeiro      133668.937500\n",
       "Araçariguama  110550.992188\n",
       "Alumínio      103118.710938\n",
       "Barueri        99595.703125"
      ]
     },
     "execution_count": 17,
     "metadata": {},
     "output_type": "execute_result"
    }
   ],
   "source": [
    "pibpcaptop = dfpibpcap.groupby('nome').max().sort_values(by='PIB_percapita', ascending=False)\n",
    "pibpcaptop[0:5]"
   ]
  },
  {
   "cell_type": "markdown",
   "metadata": {},
   "source": [
    "###  Visualização das cidades com maiores PIB per capita:"
   ]
  },
  {
   "cell_type": "code",
   "execution_count": 18,
   "metadata": {},
   "outputs": [
    {
     "data": {
      "text/plain": [
       "<AxesSubplot:ylabel='nome'>"
      ]
     },
     "execution_count": 18,
     "metadata": {},
     "output_type": "execute_result"
    },
    {
     "data": {
      "image/png": "[encoded data removed]",
      "text/plain": [
       "<Figure size 1440x576 with 1 Axes>"
      ]
     },
     "metadata": {
      "needs_background": "light"
     },
     "output_type": "display_data"
    }
   ],
   "source": [
    "pibpcaptop[0:5].plot.barh(figsize=(20,8), fontsize=12)"
   ]
  },
  {
   "cell_type": "markdown",
   "metadata": {},
   "source": [
    "## Tabela Menores Índices PIB Per Capita:"
   ]
  },
  {
   "cell_type": "markdown",
   "metadata": {},
   "source": [
    "###  Tabela das cidades com menores PIB per capita:"
   ]
  },
  {
   "cell_type": "code",
   "execution_count": 19,
   "metadata": {},
   "outputs": [
    {
     "data": {
      "text/html": [
       "<div>\n",
       "<style scoped>\n",
       "    .dataframe tbody tr th:only-of-type {\n",
       "        vertical-align: middle;\n",
       "    }\n",
       "\n",
       "    .dataframe tbody tr th {\n",
       "        vertical-align: top;\n",
       "    }\n",
       "\n",
       "    .dataframe thead th {\n",
       "        text-align: right;\n",
       "    }\n",
       "</style>\n",
       "<table border=\"1\" class=\"dataframe\">\n",
       "  <thead>\n",
       "    <tr style=\"text-align: right;\">\n",
       "      <th></th>\n",
       "      <th>PIB_percapita</th>\n",
       "    </tr>\n",
       "    <tr>\n",
       "      <th>nome</th>\n",
       "      <th></th>\n",
       "    </tr>\n",
       "  </thead>\n",
       "  <tbody>\n",
       "    <tr>\n",
       "      <th>Balbinos</th>\n",
       "      <td>4907.379883</td>\n",
       "    </tr>\n",
       "    <tr>\n",
       "      <th>Cunha</th>\n",
       "      <td>5371.799805</td>\n",
       "    </tr>\n",
       "    <tr>\n",
       "      <th>Pracinha</th>\n",
       "      <td>5451.040039</td>\n",
       "    </tr>\n",
       "    <tr>\n",
       "      <th>Francisco Morato</th>\n",
       "      <td>5492.600098</td>\n",
       "    </tr>\n",
       "    <tr>\n",
       "      <th>Iporanga</th>\n",
       "      <td>5526.689941</td>\n",
       "    </tr>\n",
       "  </tbody>\n",
       "</table>\n",
       "</div>"
      ],
      "text/plain": [
       "                  PIB_percapita\n",
       "nome                           \n",
       "Balbinos            4907.379883\n",
       "Cunha               5371.799805\n",
       "Pracinha            5451.040039\n",
       "Francisco Morato    5492.600098\n",
       "Iporanga            5526.689941"
      ]
     },
     "execution_count": 19,
     "metadata": {},
     "output_type": "execute_result"
    }
   ],
   "source": [
    "pibpcapbot = dfpibpcap.groupby('nome').min().sort_values(by='PIB_percapita', ascending=True)\n",
    "pibpcapbot[0:5]"
   ]
  },
  {
   "cell_type": "markdown",
   "metadata": {},
   "source": [
    "###  Visualização das cidades com menores PIB per capita:"
   ]
  },
  {
   "cell_type": "code",
   "execution_count": 20,
   "metadata": {},
   "outputs": [
    {
     "data": {
      "text/plain": [
       "<AxesSubplot:ylabel='nome'>"
      ]
     },
     "execution_count": 20,
     "metadata": {},
     "output_type": "execute_result"
    },
    {
     "data": {
      "image/png": "[encoded data removed]",
      "text/plain": [
       "<Figure size 1440x576 with 1 Axes>"
      ]
     },
     "metadata": {
      "needs_background": "light"
     },
     "output_type": "display_data"
    }
   ],
   "source": [
    "pibpcapbot[0:5].plot.barh(figsize=(20,8), fontsize=12)"
   ]
  }
 ],
 "metadata": {
  "kernelspec": {
   "display_name": "Python 3",
   "language": "python",
   "name": "python3"
  },
  "language_info": {
   "codemirror_mode": {
    "name": "ipython",
    "version": 3
   },
   "file_extension": ".py",
   "mimetype": "text/x-python",
   "name": "python",
   "nbconvert_exporter": "python",
   "pygments_lexer": "ipython3",
   "version": "3.9.4"
  }
 },
 "nbformat": 4,
 "nbformat_minor": 4
}

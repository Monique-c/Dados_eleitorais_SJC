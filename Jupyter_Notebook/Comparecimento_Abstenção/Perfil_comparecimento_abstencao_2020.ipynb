{
 "cells": [
  {
   "cell_type": "markdown",
   "metadata": {},
   "source": [
    "### Comparecimento e abstenção do estado de SP - 2020\n",
    "\n",
    "**Arquivo extraído do repositório de dados públicos do TSE: https://bityli.com/X3ZhU**<br> \n",
    "**Página inicial > Comparecimento e Abstenção > 2020**<br>\n",
    "<br>\n",
    "\n",
    "\n",
    "Atenção!\n",
    "Siga as intruções de configuração de ambiente do leia-me para que os códigos sejam executados corretamente\n",
    "Execute novamente as células após realizar qualquer alteração\n"
   ]
  },
  {
   "cell_type": "markdown",
   "metadata": {},
   "source": [
    "## Importação das bibliotecas utilizadas:"
   ]
  },
  {
   "cell_type": "code",
   "execution_count": 6,
   "metadata": {},
   "outputs": [],
   "source": [
    "import pandas as pd\n",
    "import matplotlib.pyplot as mtpy\n",
    "import numpy as np\n",
    "mtpy.style.use('classic')\n",
    "%matplotlib inline"
   ]
  },
  {
   "cell_type": "markdown",
   "metadata": {},
   "source": [
    "## Leitura do arquivo CSV\n",
    "Atente para alterar o local onde o arquivo está salvo. Para arquivos salvos no seu usuário, o caminho correto é \"C:/Users/**seu_user**/perfil_eleitor_secao_ATUAL_SP.csv\"<br>\n",
    "O arquivo será lido e as informações armazenadas em uma variável chamada df"
   ]
  },
  {
   "cell_type": "code",
   "execution_count": 7,
   "metadata": {},
   "outputs": [],
   "source": [
    "\n",
    "dados = pd.read_csv('C:/Users/Rafael/perfil_comparecimento_abstencao_2020.csv' , sep = \";\" , encoding = \"Latin 1\")"
   ]
  },
  {
   "cell_type": "markdown",
   "metadata": {},
   "source": [
    "## Amostra dos dados:\n",
    "(Para uma descrição sobre o conteúdo de cada coluna consulte o LEIAME.pdf do \"perfil_eleitor_secao_ATUAL_SP.csv\".)"
   ]
  },
  {
   "cell_type": "code",
   "execution_count": 12,
   "metadata": {},
   "outputs": [
    {
     "data": {
      "text/html": [
       "<div>\n",
       "<style scoped>\n",
       "    .dataframe tbody tr th:only-of-type {\n",
       "        vertical-align: middle;\n",
       "    }\n",
       "\n",
       "    .dataframe tbody tr th {\n",
       "        vertical-align: top;\n",
       "    }\n",
       "\n",
       "    .dataframe thead th {\n",
       "        text-align: right;\n",
       "    }\n",
       "</style>\n",
       "<table border=\"1\" class=\"dataframe\">\n",
       "  <thead>\n",
       "    <tr style=\"text-align: right;\">\n",
       "      <th></th>\n",
       "      <th>DT_GERACAO</th>\n",
       "      <th>HH_GERACAO</th>\n",
       "      <th>ANO_ELEICAO</th>\n",
       "      <th>NR_TURNO</th>\n",
       "      <th>SG_UF</th>\n",
       "      <th>CD_MUNICIPIO</th>\n",
       "      <th>NM_MUNICIPIO</th>\n",
       "      <th>NR_ZONA</th>\n",
       "      <th>CD_GENERO</th>\n",
       "      <th>DS_GENERO</th>\n",
       "      <th>...</th>\n",
       "      <th>DS_FAIXA_ETARIA</th>\n",
       "      <th>CD_GRAU_ESCOLARIDADE</th>\n",
       "      <th>DS_GRAU_ESCOLARIDADE</th>\n",
       "      <th>QT_APTOS</th>\n",
       "      <th>QT_COMPARECIMENTO</th>\n",
       "      <th>QT_ABSTENCAO</th>\n",
       "      <th>QT_COMPARECIMENTO_DEFICIENCIA</th>\n",
       "      <th>QT_ABSTENCAO_DEFICIENCIA</th>\n",
       "      <th>QT_COMPARECIMENTO_TTE</th>\n",
       "      <th>QT_ABSTENCAO_TTE</th>\n",
       "    </tr>\n",
       "  </thead>\n",
       "  <tbody>\n",
       "    <tr>\n",
       "      <th>0</th>\n",
       "      <td>21/12/2020</td>\n",
       "      <td>14:48:46</td>\n",
       "      <td>2020</td>\n",
       "      <td>2</td>\n",
       "      <td>SP</td>\n",
       "      <td>71072</td>\n",
       "      <td>SÃO PAULO</td>\n",
       "      <td>328</td>\n",
       "      <td>2</td>\n",
       "      <td>MASCULINO</td>\n",
       "      <td>...</td>\n",
       "      <td>75 a 79 anos</td>\n",
       "      <td>3</td>\n",
       "      <td>ENSINO FUNDAMENTAL INCOMPLETO</td>\n",
       "      <td>269</td>\n",
       "      <td>65</td>\n",
       "      <td>204</td>\n",
       "      <td>3</td>\n",
       "      <td>6</td>\n",
       "      <td>3</td>\n",
       "      <td>16</td>\n",
       "    </tr>\n",
       "    <tr>\n",
       "      <th>1</th>\n",
       "      <td>21/12/2020</td>\n",
       "      <td>14:48:46</td>\n",
       "      <td>2020</td>\n",
       "      <td>2</td>\n",
       "      <td>SP</td>\n",
       "      <td>71072</td>\n",
       "      <td>SÃO PAULO</td>\n",
       "      <td>328</td>\n",
       "      <td>2</td>\n",
       "      <td>MASCULINO</td>\n",
       "      <td>...</td>\n",
       "      <td>85 a 89 anos</td>\n",
       "      <td>3</td>\n",
       "      <td>ENSINO FUNDAMENTAL INCOMPLETO</td>\n",
       "      <td>78</td>\n",
       "      <td>3</td>\n",
       "      <td>75</td>\n",
       "      <td>0</td>\n",
       "      <td>0</td>\n",
       "      <td>1</td>\n",
       "      <td>5</td>\n",
       "    </tr>\n",
       "    <tr>\n",
       "      <th>2</th>\n",
       "      <td>21/12/2020</td>\n",
       "      <td>14:48:46</td>\n",
       "      <td>2020</td>\n",
       "      <td>2</td>\n",
       "      <td>SP</td>\n",
       "      <td>71072</td>\n",
       "      <td>SÃO PAULO</td>\n",
       "      <td>328</td>\n",
       "      <td>2</td>\n",
       "      <td>MASCULINO</td>\n",
       "      <td>...</td>\n",
       "      <td>95 a 99 anos</td>\n",
       "      <td>6</td>\n",
       "      <td>ENSINO MÉDIO COMPLETO</td>\n",
       "      <td>2</td>\n",
       "      <td>0</td>\n",
       "      <td>2</td>\n",
       "      <td>0</td>\n",
       "      <td>0</td>\n",
       "      <td>0</td>\n",
       "      <td>0</td>\n",
       "    </tr>\n",
       "    <tr>\n",
       "      <th>3</th>\n",
       "      <td>21/12/2020</td>\n",
       "      <td>14:48:46</td>\n",
       "      <td>2020</td>\n",
       "      <td>2</td>\n",
       "      <td>SP</td>\n",
       "      <td>71072</td>\n",
       "      <td>SÃO PAULO</td>\n",
       "      <td>328</td>\n",
       "      <td>2</td>\n",
       "      <td>MASCULINO</td>\n",
       "      <td>...</td>\n",
       "      <td>30 a 34 anos</td>\n",
       "      <td>1</td>\n",
       "      <td>ANALFABETO</td>\n",
       "      <td>1</td>\n",
       "      <td>1</td>\n",
       "      <td>0</td>\n",
       "      <td>0</td>\n",
       "      <td>0</td>\n",
       "      <td>0</td>\n",
       "      <td>0</td>\n",
       "    </tr>\n",
       "    <tr>\n",
       "      <th>4</th>\n",
       "      <td>21/12/2020</td>\n",
       "      <td>14:48:46</td>\n",
       "      <td>2020</td>\n",
       "      <td>2</td>\n",
       "      <td>SP</td>\n",
       "      <td>71072</td>\n",
       "      <td>SÃO PAULO</td>\n",
       "      <td>328</td>\n",
       "      <td>2</td>\n",
       "      <td>MASCULINO</td>\n",
       "      <td>...</td>\n",
       "      <td>40 a 44 anos</td>\n",
       "      <td>5</td>\n",
       "      <td>ENSINO MÉDIO INCOMPLETO</td>\n",
       "      <td>2</td>\n",
       "      <td>2</td>\n",
       "      <td>0</td>\n",
       "      <td>0</td>\n",
       "      <td>0</td>\n",
       "      <td>0</td>\n",
       "      <td>0</td>\n",
       "    </tr>\n",
       "  </tbody>\n",
       "</table>\n",
       "<p>5 rows × 23 columns</p>\n",
       "</div>"
      ],
      "text/plain": [
       "   DT_GERACAO HH_GERACAO  ANO_ELEICAO  NR_TURNO SG_UF  CD_MUNICIPIO  \\\n",
       "0  21/12/2020   14:48:46         2020         2    SP         71072   \n",
       "1  21/12/2020   14:48:46         2020         2    SP         71072   \n",
       "2  21/12/2020   14:48:46         2020         2    SP         71072   \n",
       "3  21/12/2020   14:48:46         2020         2    SP         71072   \n",
       "4  21/12/2020   14:48:46         2020         2    SP         71072   \n",
       "\n",
       "  NM_MUNICIPIO  NR_ZONA  CD_GENERO  DS_GENERO  ...  DS_FAIXA_ETARIA  \\\n",
       "0    SÃO PAULO      328          2  MASCULINO  ...     75 a 79 anos   \n",
       "1    SÃO PAULO      328          2  MASCULINO  ...     85 a 89 anos   \n",
       "2    SÃO PAULO      328          2  MASCULINO  ...     95 a 99 anos   \n",
       "3    SÃO PAULO      328          2  MASCULINO  ...     30 a 34 anos   \n",
       "4    SÃO PAULO      328          2  MASCULINO  ...     40 a 44 anos   \n",
       "\n",
       "  CD_GRAU_ESCOLARIDADE           DS_GRAU_ESCOLARIDADE QT_APTOS  \\\n",
       "0                    3  ENSINO FUNDAMENTAL INCOMPLETO      269   \n",
       "1                    3  ENSINO FUNDAMENTAL INCOMPLETO       78   \n",
       "2                    6          ENSINO MÉDIO COMPLETO        2   \n",
       "3                    1                     ANALFABETO        1   \n",
       "4                    5        ENSINO MÉDIO INCOMPLETO        2   \n",
       "\n",
       "   QT_COMPARECIMENTO QT_ABSTENCAO  QT_COMPARECIMENTO_DEFICIENCIA  \\\n",
       "0                 65          204                              3   \n",
       "1                  3           75                              0   \n",
       "2                  0            2                              0   \n",
       "3                  1            0                              0   \n",
       "4                  2            0                              0   \n",
       "\n",
       "   QT_ABSTENCAO_DEFICIENCIA  QT_COMPARECIMENTO_TTE  QT_ABSTENCAO_TTE  \n",
       "0                         6                      3                16  \n",
       "1                         0                      1                 5  \n",
       "2                         0                      0                 0  \n",
       "3                         0                      0                 0  \n",
       "4                         0                      0                 0  \n",
       "\n",
       "[5 rows x 23 columns]"
      ]
     },
     "execution_count": 12,
     "metadata": {},
     "output_type": "execute_result"
    }
   ],
   "source": [
    "dados.head()"
   ]
  },
  {
   "cell_type": "markdown",
   "metadata": {},
   "source": [
    "**Nomes das colunas:**"
   ]
  },
  {
   "cell_type": "code",
   "execution_count": 13,
   "metadata": {},
   "outputs": [
    {
     "name": "stdout",
     "output_type": "stream",
     "text": [
      "<class 'pandas.core.frame.DataFrame'>\n",
      "RangeIndex: 4770970 entries, 0 to 4770969\n",
      "Data columns (total 23 columns):\n",
      " #   Column                         Dtype \n",
      "---  ------                         ----- \n",
      " 0   DT_GERACAO                     object\n",
      " 1   HH_GERACAO                     object\n",
      " 2   ANO_ELEICAO                    int64 \n",
      " 3   NR_TURNO                       int64 \n",
      " 4   SG_UF                          object\n",
      " 5   CD_MUNICIPIO                   int64 \n",
      " 6   NM_MUNICIPIO                   object\n",
      " 7   NR_ZONA                        int64 \n",
      " 8   CD_GENERO                      int64 \n",
      " 9   DS_GENERO                      object\n",
      " 10  CD_ESTADO_CIVIL                int64 \n",
      " 11  DS_ESTADO_CIVIL                object\n",
      " 12  CD_FAIXA_ETARIA                int64 \n",
      " 13  DS_FAIXA_ETARIA                object\n",
      " 14  CD_GRAU_ESCOLARIDADE           int64 \n",
      " 15  DS_GRAU_ESCOLARIDADE           object\n",
      " 16  QT_APTOS                       int64 \n",
      " 17  QT_COMPARECIMENTO              int64 \n",
      " 18  QT_ABSTENCAO                   int64 \n",
      " 19  QT_COMPARECIMENTO_DEFICIENCIA  int64 \n",
      " 20  QT_ABSTENCAO_DEFICIENCIA       int64 \n",
      " 21  QT_COMPARECIMENTO_TTE          int64 \n",
      " 22  QT_ABSTENCAO_TTE               int64 \n",
      "dtypes: int64(15), object(8)\n",
      "memory usage: 837.2+ MB\n"
     ]
    }
   ],
   "source": [
    "dados.info()"
   ]
  },
  {
   "cell_type": "markdown",
   "metadata": {},
   "source": [
    "**Seleção de colunas que serão utilizadas:**\n"
   ]
  },
  {
   "cell_type": "code",
   "execution_count": 16,
   "metadata": {},
   "outputs": [],
   "source": [
    "Por_turno = ['DS_FAIXA_ETARIA','QT_ABSTENCAO', 'NM_MUNICIPIO', 'SG_UF','NR_TURNO','QT_COMPARECIMENTO']"
   ]
  },
  {
   "cell_type": "code",
   "execution_count": 17,
   "metadata": {},
   "outputs": [],
   "source": [
    "dadosTurno = dados.filter(items=Por_turno)"
   ]
  },
  {
   "cell_type": "markdown",
   "metadata": {},
   "source": [
    "## Comparecimento e abstenção\n"
   ]
  },
  {
   "cell_type": "markdown",
   "metadata": {},
   "source": [
    "**Lista das cidades que tiveram segundo turno:**\n",
    "\n",
    "Possível verificar a lista alterando 'QT_ABSTENCAO'(eleitores que se abstiveram) para 'QT_COMPARECIMENTO'(eleitores que compareceram)"
   ]
  },
  {
   "cell_type": "code",
   "execution_count": 18,
   "metadata": {},
   "outputs": [
    {
     "data": {
      "text/plain": [
       "NM_MUNICIPIO\n",
       "TABOÃO DA SERRA      63955\n",
       "LIMEIRA              69732\n",
       "TAUBATÉ              72373\n",
       "PRAIA GRANDE         73930\n",
       "FRANCA               78422\n",
       "SÃO VICENTE          80462\n",
       "MAUÁ                 86621\n",
       "BAURU                86636\n",
       "DIADEMA              95937\n",
       "MOGI DAS CRUZES      99370\n",
       "PIRACICABA          100194\n",
       "SOROCABA            138912\n",
       "RIBEIRÃO PRETO      157340\n",
       "GUARULHOS           207848\n",
       "CAMPINAS            297297\n",
       "SÃO PAULO          2769021\n",
       "Name: QT_ABSTENCAO, dtype: int64"
      ]
     },
     "execution_count": 18,
     "metadata": {},
     "output_type": "execute_result"
    }
   ],
   "source": [
    "varturno = 2\n",
    "varanalise = 'QT_ABSTENCAO'\n",
    "\n",
    "turno1 = dadosTurno.query(\"NR_TURNO == @varturno \")\n",
    "turno2 = turno1.query(\"SG_UF =='SP'\")\n",
    "turno2.groupby('NM_MUNICIPIO')[varanalise].sum().sort_values()"
   ]
  },
  {
   "cell_type": "markdown",
   "metadata": {},
   "source": [
    "\n",
    "## Visualização em gráfico:\n",
    "\n",
    "Alterações possíveis:\n",
    "- Turno: varturno = 1 ou varturno = 2\n",
    "- Cidade: varmun1 = 'Digite_a_cidade'\n",
    "- Comparecimento: varanalise = 'QT_COMPARECIMENTO'\n",
    "- Abstenção: varanalise = 'QT_ABSTENCAO'\n"
   ]
  },
  {
   "cell_type": "code",
   "execution_count": 22,
   "metadata": {},
   "outputs": [
    {
     "data": {
      "image/png": "[encoded data removed]",
      "text/plain": [
       "<Figure size 864x648 with 1 Axes>"
      ]
     },
     "metadata": {
      "needs_background": "light"
     },
     "output_type": "display_data"
    }
   ],
   "source": [
    "\n",
    "varturno = 1\n",
    "varmun1 = 'São josé dos Campos'.upper()\n",
    "varanalise = 'QT_ABSTENCAO' #\n",
    "\n",
    "\n",
    "turno = dadosTurno.query(\"NR_TURNO == @varturno\")#\n",
    "turnoCidade = turno.query(\"NM_MUNICIPIO ==@varmun1\")#\n",
    "turnoCidade.groupby('DS_FAIXA_ETARIA')[varanalise].sum().sort_index().plot(kind='barh', figsize=(12,9),color = '#0f3057')#\n",
    "Grupos = turnoCidade.groupby('DS_FAIXA_ETARIA')[varanalise].sum().sort_index()"
   ]
  },
  {
   "cell_type": "markdown",
   "metadata": {},
   "source": [
    "**Agrupamento das faixas etárias por jovens até 29 anos, adultos e idosos**"
   ]
  },
  {
   "cell_type": "code",
   "execution_count": 23,
   "metadata": {},
   "outputs": [],
   "source": [
    "jovens = Grupos[1:9]\n",
    "adultos = Grupos[9:14]\n",
    "Idosos = Grupos[14:22]"
   ]
  },
  {
   "cell_type": "code",
   "execution_count": 24,
   "metadata": {},
   "outputs": [
    {
     "data": {
      "text/html": [
       "<div>\n",
       "<style scoped>\n",
       "    .dataframe tbody tr th:only-of-type {\n",
       "        vertical-align: middle;\n",
       "    }\n",
       "\n",
       "    .dataframe tbody tr th {\n",
       "        vertical-align: top;\n",
       "    }\n",
       "\n",
       "    .dataframe thead th {\n",
       "        text-align: right;\n",
       "    }\n",
       "</style>\n",
       "<table border=\"1\" class=\"dataframe\">\n",
       "  <thead>\n",
       "    <tr style=\"text-align: right;\">\n",
       "      <th></th>\n",
       "      <th>Abstenção</th>\n",
       "    </tr>\n",
       "  </thead>\n",
       "  <tbody>\n",
       "    <tr>\n",
       "      <th>Idosos a partir dos 60</th>\n",
       "      <td>39488</td>\n",
       "    </tr>\n",
       "    <tr>\n",
       "      <th>Adultos</th>\n",
       "      <td>47687</td>\n",
       "    </tr>\n",
       "    <tr>\n",
       "      <th>Jovens até 29 anos</th>\n",
       "      <td>57418</td>\n",
       "    </tr>\n",
       "  </tbody>\n",
       "</table>\n",
       "</div>"
      ],
      "text/plain": [
       "                        Abstenção\n",
       "Idosos a partir dos 60      39488\n",
       "Adultos                     47687\n",
       "Jovens até 29 anos          57418"
      ]
     },
     "execution_count": 24,
     "metadata": {},
     "output_type": "execute_result"
    }
   ],
   "source": [
    "colunas = ['Abstenção']\n",
    "index = [ 'Idosos a partir dos 60','Adultos', 'Jovens até 29 anos'] \n",
    "data = [Idosos.sum()+(int(Grupos[0:1])),adultos.sum(),jovens.sum()]\n",
    "grupos = pd.DataFrame(data=data, index=index, columns=colunas)\n",
    "grupos"
   ]
  },
  {
   "cell_type": "markdown",
   "metadata": {},
   "source": [
    "## Comparação do primeiro turno entre cidades\n",
    "Alterações possíveis:\n",
    "- Turno: varturno = 1 ou varturno = 2\n",
    "- Cidade 1: varmun1 = 'Digite_a_cidade'\n",
    "- Cidade 2: varmun2 = 'Digite_a_cidade'\n",
    "- Comparecimento: varanalise = 'QT_COMPARECIMENTO'\n",
    "- Abstenção: varanalise = 'QT_ABSTENCAO'"
   ]
  },
  {
   "cell_type": "code",
   "execution_count": 26,
   "metadata": {},
   "outputs": [
    {
     "data": {
      "text/plain": [
       "<matplotlib.legend.Legend at 0x1d42979d700>"
      ]
     },
     "execution_count": 26,
     "metadata": {},
     "output_type": "execute_result"
    },
    {
     "data": {
      "image/png": "[encoded data removed]",
      "text/plain": [
       "<Figure size 864x648 with 1 Axes>"
      ]
     },
     "metadata": {
      "needs_background": "light"
     },
     "output_type": "display_data"
    }
   ],
   "source": [
    "varturno = 1\n",
    "varmun1 = 'São Paulo'.upper()\n",
    "varmun2 = 'OsaScO'.upper()\n",
    "varanalise = 'QT_ABSTENCAO'\n",
    "\n",
    "turno = dadosTurno.query(\"NR_TURNO == @varturno\")#\n",
    "turnoCidade = turno.query(\"NM_MUNICIPIO == @varmun1\")#\n",
    "turnoCidade.groupby('DS_FAIXA_ETARIA')[varanalise].sum().sort_index().plot(kind='barh', figsize=(12,9),color = '#0f3057')#\n",
    "\n",
    "turno = dadosTurno.query(\"NR_TURNO == @varturno\")\n",
    "turnoCidade = turno.query(\"NM_MUNICIPIO == @varmun2\")#\n",
    "turnoCidade.groupby('DS_FAIXA_ETARIA')[varanalise].sum().sort_index().plot(kind='barh', figsize=(12,9),color = '#008891')#\n",
    "mtpy.legend([varmun1, varmun2], loc='upper center', ncol = 4)"
   ]
  },
  {
   "cell_type": "markdown",
   "metadata": {},
   "source": [
    "## Maiores abstenções e comparecimentos do estado\n",
    "Alterações possíveis:\n",
    "- Turno: varturno = 1 ou varturno = 2\n",
    "- Comparecimento: varanalise = 'QT_COMPARECIMENTO'\n",
    "- Abstenção: varanalise = 'QT_ABSTENCAO'"
   ]
  },
  {
   "cell_type": "code",
   "execution_count": 37,
   "metadata": {},
   "outputs": [
    {
     "data": {
      "text/plain": [
       "NM_MUNICIPIO\n",
       "SÃO PAULO                2632592\n",
       "CAMPINAS                  260149\n",
       "GUARULHOS                 172116\n",
       "SÃO BERNARDO DO CAMPO     165087\n",
       "SANTO ANDRÉ               164255\n",
       "Name: QT_ABSTENCAO, dtype: int64"
      ]
     },
     "execution_count": 37,
     "metadata": {},
     "output_type": "execute_result"
    }
   ],
   "source": [
    "varturno = 1\n",
    "varanalise = 'QT_ABSTENCAO'\n",
    "\n",
    "y = dadosTurno.query(\"NR_TURNO == @varturno\")\n",
    "y2 =y.query(\"SG_UF =='SP'\")\n",
    "y2.groupby('NM_MUNICIPIO')[varanalise].sum().sort_values().nlargest(5)#"
   ]
  },
  {
   "cell_type": "code",
   "execution_count": 36,
   "metadata": {},
   "outputs": [
    {
     "data": {
      "text/plain": [
       "<AxesSubplot:ylabel='NM_MUNICIPIO'>"
      ]
     },
     "execution_count": 36,
     "metadata": {},
     "output_type": "execute_result"
    },
    {
     "data": {
      "image/png": "[encoded data removed]",
      "text/plain": [
       "<Figure size 576x360 with 1 Axes>"
      ]
     },
     "metadata": {
      "needs_background": "light"
     },
     "output_type": "display_data"
    }
   ],
   "source": [
    "varturno = 1\n",
    "varanalise = 'QT_ABSTENCAO'\n",
    "\n",
    "y = dadosTurno.query(\"NR_TURNO ==@varturno\")\n",
    "y2 =y.query(\"SG_UF =='SP'\")\n",
    "y2.groupby('NM_MUNICIPIO')[varanalise].sum().sort_values().nlargest(5).plot(kind='barh', figsize=(8,5),color = '#0f3057')#"
   ]
  },
  {
   "cell_type": "markdown",
   "metadata": {},
   "source": [
    "## Menores abstenções e comparecimentos do estado\n",
    "Alterações possíveis:\n",
    "\n",
    "- Turno: varturno = 1 ou varturno = 2\n",
    "- Comparecimento: varanalise = 'QT_COMPARECIMENTO'\n",
    "- Abstenção: varanalise = 'QT_ABSTENCAO'"
   ]
  },
  {
   "cell_type": "code",
   "execution_count": 38,
   "metadata": {},
   "outputs": [
    {
     "data": {
      "text/plain": [
       "NM_MUNICIPIO\n",
       "NOVA CASTILHO          104\n",
       "BORÁ                   131\n",
       "SÃO JOÃO DE IRACEMA    134\n",
       "PRACINHA               139\n",
       "URU                    147\n",
       "Name: QT_ABSTENCAO, dtype: int64"
      ]
     },
     "execution_count": 38,
     "metadata": {},
     "output_type": "execute_result"
    }
   ],
   "source": [
    "varturno = 1\n",
    "varanalise = 'QT_ABSTENCAO'\n",
    "\n",
    "\n",
    "y = dadosTurno.query(\"NR_TURNO == @varturno\")#\n",
    "y2 =y.query(\"SG_UF =='SP'\")\n",
    "y2.groupby('NM_MUNICIPIO')[varanalise].sum().sort_values().nsmallest(5)#"
   ]
  },
  {
   "cell_type": "code",
   "execution_count": 39,
   "metadata": {},
   "outputs": [
    {
     "data": {
      "text/plain": [
       "<AxesSubplot:ylabel='NM_MUNICIPIO'>"
      ]
     },
     "execution_count": 39,
     "metadata": {},
     "output_type": "execute_result"
    },
    {
     "data": {
      "image/png": "[encoded data removed]",
      "text/plain": [
       "<Figure size 576x360 with 1 Axes>"
      ]
     },
     "metadata": {
      "needs_background": "light"
     },
     "output_type": "display_data"
    }
   ],
   "source": [
    "varturno = 1\n",
    "varanalise = 'QT_ABSTENCAO'\n",
    "\n",
    "\n",
    "\n",
    "y = dadosTurno.query(\"NR_TURNO ==@varturno\")#\n",
    "y2 =y.query(\"SG_UF =='SP'\")\n",
    "y2.groupby('NM_MUNICIPIO')[varanalise].sum().sort_values().nsmallest(5).plot(kind='barh', figsize=(8,5),color = '#0f3057')#"
   ]
  }
 ],
 "metadata": {
  "kernelspec": {
   "display_name": "Python 3",
   "language": "python",
   "name": "python3"
  },
  "language_info": {
   "codemirror_mode": {
    "name": "ipython",
    "version": 3
   },
   "file_extension": ".py",
   "mimetype": "text/x-python",
   "name": "python",
   "nbconvert_exporter": "python",
   "pygments_lexer": "ipython3",
   "version": "3.9.4"
  }
 },
 "nbformat": 4,
 "nbformat_minor": 4
}